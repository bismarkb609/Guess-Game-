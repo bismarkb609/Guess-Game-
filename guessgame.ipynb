{
 "cells": [
  {
   "cell_type": "code",
   "execution_count": null,
   "id": "46db02e0",
   "metadata": {},
   "outputs": [],
   "source": [
    "#importing libraries \n",
    "import random \n",
    "import math "
   ]
  },
  {
   "cell_type": "code",
   "execution_count": null,
   "id": "c1275dbf",
   "metadata": {},
   "outputs": [],
   "source": [
    "#taking user inputs\n",
    "lowValue = int(input(\"LOWEST VALUE: \"))\n",
    "highValue = int(input(\"HIGHEST VALUE: \"))"
   ]
  },
  {
   "cell_type": "code",
   "execution_count": null,
   "id": "737f2dac",
   "metadata": {},
   "outputs": [],
   "source": [
    "#generating random between lowValue and highValue \n",
    "y = random.randint(lowValue, highValue)\n",
    "print(f\"you have 3 chance to get it right!\")"
   ]
  },
  {
   "cell_type": "code",
   "execution_count": null,
   "id": "b926eb2d",
   "metadata": {},
   "outputs": [],
   "source": [
    "#starting the counter \n",
    "count = 0 \n",
    "\n",
    "#user has only 3 chances to get it right \n",
    "while count < 3:\n",
    "    count += 1 \n",
    "    \n",
    "    #allowing the user to guess as an input\n",
    "    guess = int(input(\"Guess a number: \"))\n",
    "    \n",
    "    #testing if the user guess correct \n",
    "    if y == guess:\n",
    "        print(f\"Congratulations, you guessed right in {count} try\")\n",
    "        \n",
    "        break\n",
    "    elif  y < guess:\n",
    "        print(\"You guessed too high!\")\n",
    "    elif y > guess:\n",
    "        print(\"You guessed too small!\")\n",
    "\n",
    "if count >= 3:\n",
    "    print(f\"The number is {y}\")\n",
    "    "
   ]
  },
  {
   "cell_type": "markdown",
   "id": "5577199d",
   "metadata": {},
   "source": []
  }
 ],
 "metadata": {
  "kernelspec": {
   "display_name": "Python 3 (ipykernel)",
   "language": "python",
   "name": "python3"
  },
  "language_info": {
   "codemirror_mode": {
    "name": "ipython",
    "version": 3
   },
   "file_extension": ".py",
   "mimetype": "text/x-python",
   "name": "python",
   "nbconvert_exporter": "python",
   "pygments_lexer": "ipython3",
   "version": "3.8.8"
  }
 },
 "nbformat": 4,
 "nbformat_minor": 5
}
